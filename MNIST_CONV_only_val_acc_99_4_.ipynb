{
  "nbformat": 4,
  "nbformat_minor": 0,
  "metadata": {
    "colab": {
      "name": "MNIST_CONV_only_val_acc_99.4%.ipynb",
      "provenance": [],
      "collapsed_sections": []
    },
    "kernelspec": {
      "name": "python3",
      "display_name": "Python 3"
    },
    "language_info": {
      "name": "python"
    }
  },
  "cells": [
    {
      "cell_type": "code",
      "metadata": {
        "id": "o9TfRg9OmBhF"
      },
      "source": [
        "!pip install -q keras\n",
        "import keras"
      ],
      "execution_count": 1,
      "outputs": []
    },
    {
      "cell_type": "code",
      "metadata": {
        "id": "jOFf8CH1mS-I"
      },
      "source": [
        "# importing the numpy package with the alias np\n",
        "import numpy as np\n",
        "\n",
        "# importing sequential model from keras.models\n",
        "from keras.models import Sequential\n",
        "# importing different layers and activations from keras.layers\n",
        "from keras.layers import Dense, Dropout, Activation, Flatten, Add\n",
        "from keras.layers import Convolution2D, MaxPooling2D\n",
        "# importing np_utils from keras.utils\n",
        "from keras.utils import np_utils\n",
        "\n",
        "# importing the mnist dataset from keras.datasets \n",
        "from keras.datasets import mnist"
      ],
      "execution_count": 2,
      "outputs": []
    },
    {
      "cell_type": "code",
      "metadata": {
        "id": "EswWVeyMmYMi"
      },
      "source": [
        "# we are downloading the MNIST dataset and splitting the data for training and testing\n",
        "(X_train, y_train), (X_test, y_test) = mnist.load_data()"
      ],
      "execution_count": 3,
      "outputs": []
    },
    {
      "cell_type": "code",
      "metadata": {
        "colab": {
          "base_uri": "https://localhost:8080/",
          "height": 300
        },
        "id": "Z1NNe3DpnNHC",
        "outputId": "260eb9b9-7a37-4836-e52a-6a392fd4330b"
      },
      "source": [
        "\n",
        "# printing out the shape of x_train\n",
        "print (X_train.shape)\n",
        "\n",
        "# importing pyplot with alias plt from matplotlib package\n",
        "from matplotlib import pyplot as plt\n",
        "# %matplotlib inline is a magic function to show us the plots in a notebook\n",
        "%matplotlib inline\n",
        "# plotting the first image or the image at index zero in the training dataset\n",
        "plt.imshow(X_train[0])"
      ],
      "execution_count": 4,
      "outputs": [
        {
          "output_type": "stream",
          "text": [
            "(60000, 28, 28)\n"
          ],
          "name": "stdout"
        },
        {
          "output_type": "execute_result",
          "data": {
            "text/plain": [
              "<matplotlib.image.AxesImage at 0x7f1be6418190>"
            ]
          },
          "metadata": {
            "tags": []
          },
          "execution_count": 4
        },
        {
          "output_type": "display_data",
          "data": {
            "image/png": "[encoded data removed]",
            "text/plain": [
              "<Figure size 432x288 with 1 Axes>"
            ]
          },
          "metadata": {
            "tags": [],
            "needs_background": "light"
          }
        }
      ]
    },
    {
      "cell_type": "code",
      "metadata": {
        "id": "1PvNAU5WnQbg"
      },
      "source": [
        "#Reshaping our training and testing datatset using numpy's reshape function which we will feed to the model\n",
        "X_train = X_train.reshape(X_train.shape[0], 28, 28,1)\n",
        "X_test = X_test.reshape(X_test.shape[0], 28, 28,1)"
      ],
      "execution_count": 5,
      "outputs": []
    },
    {
      "cell_type": "code",
      "metadata": {
        "id": "pULAGBHJnTCi"
      },
      "source": [
        "#Doing type conversion or changing the datatype to float32 for the data\n",
        "X_train = X_train.astype('float32')\n",
        "X_test = X_test.astype('float32')\n",
        "#Doing standardization or normalization here dividind each pixel by 255 in the train and test data\n",
        "X_train /= 255\n",
        "X_test /= 255"
      ],
      "execution_count": 6,
      "outputs": []
    },
    {
      "cell_type": "code",
      "metadata": {
        "id": "4PfJDgMgnUij"
      },
      "source": [
        "# Convert 1-dimensional class arrays to 10-dimensional class matrices\n",
        "# simply we can say we are doing sort of onehot encoding\n",
        "Y_train = np_utils.to_categorical(y_train, 10)\n",
        "Y_test = np_utils.to_categorical(y_test, 10)"
      ],
      "execution_count": 7,
      "outputs": []
    },
    {
      "cell_type": "code",
      "metadata": {
        "id": "r2q7HaHFnej8"
      },
      "source": [
        "from keras.layers import Activation,BatchNormalization"
      ],
      "execution_count": 8,
      "outputs": []
    },
    {
      "cell_type": "markdown",
      "metadata": {
        "id": "BQu2pZlZDFWl"
      },
      "source": [
        "#MODEL 1"
      ]
    },
    {
      "cell_type": "code",
      "metadata": {
        "id": "kJpxuHl6nX2V"
      },
      "source": [
        "model1 = Sequential()\n",
        "# Performing 2dconvolution followed by BatchNormalization and Dropout\n",
        "model1.add(Convolution2D(10, 3, activation='relu', input_shape=(28,28,1))) # channel dimensions = 26x26x10    \n",
        "model1.add(BatchNormalization())\n",
        "model1.add(Dropout(0.1))\n",
        "\n",
        "# Performing 2dconvolution followed by BatchNormalization and Dropout        \n",
        "model1.add(Convolution2D(16, 3, activation='relu'))                        # channel dimensions = 24x24x16    \n",
        "model1.add(BatchNormalization())\n",
        "model1.add(Dropout(0.1))\n",
        "\n",
        "# Performing 2dconvolution followed Maxpoooling operation\n",
        "model1.add(Convolution2D(10, 1, activation='relu')) #24                    # channel dimensions = 24x24x10    \n",
        "model1.add(MaxPooling2D(pool_size=(2, 2)))#12                                 # channel dimensions = 12x12x10    \n",
        "\n",
        "# Performing 2dconvolution followed by BatchNormalization and Dropout\n",
        "model1.add(Convolution2D(14, 3, activation='relu'))#10                     # channel dimensions = 10x10x14    \n",
        "model1.add(BatchNormalization())\n",
        "model1.add(Dropout(0.1))\n",
        "\n",
        "# Performing 2dconvolution followed by BatchNormalization and Dropout\n",
        "model1.add(Convolution2D(14, 3, activation='relu'))#8                      # channel dimensions = 8x8x14    \n",
        "model1.add(BatchNormalization())\n",
        "model1.add(Dropout(0.1))\n",
        "\n",
        "# Performing 2dconvolution followed by BatchNormalization and Dropout\n",
        "model1.add(Convolution2D(12, 3, activation='relu'))#6                      # channel dimensions = 6x6x12   \n",
        "model1.add(BatchNormalization())\n",
        "model1.add(Dropout(0.1))\n",
        "\n",
        "# Performing 2dconvolution followed by BatchNormalization and Dropout\n",
        "model1.add(Convolution2D(12, 3, activation='relu'))#4                      # channel dimensions = 4x4x12    \n",
        "model1.add(BatchNormalization())\n",
        "model1.add(Dropout(0.1))\n",
        "\n",
        "# Performing only 2dconvolution at the last convolution layer(no batchnormalization and dropout)\n",
        "model1.add(Convolution2D(10, 4))                                           # using 4x4 kernel to see the complete image\n",
        "\n",
        "# Here we are Flateening our dat i.e making it one dimensional which we will feed to the network.\n",
        "model1.add(Flatten())\n",
        "#Using softmax activation function at the last layer which is used for multi class classification\n",
        "model1.add(Activation('softmax'))"
      ],
      "execution_count": 9,
      "outputs": []
    },
    {
      "cell_type": "code",
      "metadata": {
        "id": "y_FGumbNolQy",
        "colab": {
          "base_uri": "https://localhost:8080/"
        },
        "outputId": "4620e194-a67e-4ac1-f1bb-ae9e849bb1c2"
      },
      "source": [
        "model1.summary()"
      ],
      "execution_count": 21,
      "outputs": [
        {
          "output_type": "stream",
          "text": [
            "Model: \"sequential\"\n",
            "_________________________________________________________________\n",
            "Layer (type)                 Output Shape              Param #   \n",
            "=================================================================\n",
            "conv2d (Conv2D)              (None, 26, 26, 10)        100       \n",
            "_________________________________________________________________\n",
            "batch_normalization (BatchNo (None, 26, 26, 10)        40        \n",
            "_________________________________________________________________\n",
            "dropout (Dropout)            (None, 26, 26, 10)        0         \n",
            "_________________________________________________________________\n",
            "conv2d_1 (Conv2D)            (None, 24, 24, 16)        1456      \n",
            "_________________________________________________________________\n",
            "batch_normalization_1 (Batch (None, 24, 24, 16)        64        \n",
            "_________________________________________________________________\n",
            "dropout_1 (Dropout)          (None, 24, 24, 16)        0         \n",
            "_________________________________________________________________\n",
            "conv2d_2 (Conv2D)            (None, 24, 24, 10)        170       \n",
            "_________________________________________________________________\n",
            "max_pooling2d (MaxPooling2D) (None, 12, 12, 10)        0         \n",
            "_________________________________________________________________\n",
            "conv2d_3 (Conv2D)            (None, 10, 10, 14)        1274      \n",
            "_________________________________________________________________\n",
            "batch_normalization_2 (Batch (None, 10, 10, 14)        56        \n",
            "_________________________________________________________________\n",
            "dropout_2 (Dropout)          (None, 10, 10, 14)        0         \n",
            "_________________________________________________________________\n",
            "conv2d_4 (Conv2D)            (None, 8, 8, 14)          1778      \n",
            "_________________________________________________________________\n",
            "batch_normalization_3 (Batch (None, 8, 8, 14)          56        \n",
            "_________________________________________________________________\n",
            "dropout_3 (Dropout)          (None, 8, 8, 14)          0         \n",
            "_________________________________________________________________\n",
            "conv2d_5 (Conv2D)            (None, 6, 6, 12)          1524      \n",
            "_________________________________________________________________\n",
            "batch_normalization_4 (Batch (None, 6, 6, 12)          48        \n",
            "_________________________________________________________________\n",
            "dropout_4 (Dropout)          (None, 6, 6, 12)          0         \n",
            "_________________________________________________________________\n",
            "conv2d_6 (Conv2D)            (None, 4, 4, 12)          1308      \n",
            "_________________________________________________________________\n",
            "batch_normalization_5 (Batch (None, 4, 4, 12)          48        \n",
            "_________________________________________________________________\n",
            "dropout_5 (Dropout)          (None, 4, 4, 12)          0         \n",
            "_________________________________________________________________\n",
            "conv2d_7 (Conv2D)            (None, 1, 1, 10)          1930      \n",
            "_________________________________________________________________\n",
            "flatten (Flatten)            (None, 10)                0         \n",
            "_________________________________________________________________\n",
            "activation (Activation)      (None, 10)                0         \n",
            "=================================================================\n",
            "Total params: 9,852\n",
            "Trainable params: 9,696\n",
            "Non-trainable params: 156\n",
            "_________________________________________________________________\n"
          ],
          "name": "stdout"
        }
      ]
    },
    {
      "cell_type": "code",
      "metadata": {
        "colab": {
          "base_uri": "https://localhost:8080/"
        },
        "id": "MounrNU7v_kv",
        "outputId": "b4ea0364-0e22-4ec8-89c0-ce32a58252d7"
      },
      "source": [
        "\n",
        "from keras.optimizers import Adam\n",
        "\n",
        "# We are importing the learningratescheduler callback\n",
        "from keras.callbacks import LearningRateScheduler\n",
        "#Creating the \"scheduler\" function with two arguments i.e learningrate and epoch\n",
        "def scheduler(epoch, lr):\n",
        "  return round(0.003 * 1/(1 + 0.319 * epoch), 10)\n",
        "\n",
        "#\tLearningRate = LearningRate * 1/(1 + decay * epoch) here decay is 0.319 and epoch is 10.\n",
        "\n",
        "# here we are compiling our model and using 'categorical_crossentropy' as our loss function and adam as our optimizer with learning rate =0.003 and metrics is accuracy\n",
        "model1.compile(loss='categorical_crossentropy', optimizer=Adam(lr=0.003), metrics=['accuracy'])\n",
        "\n",
        "# Here we are traing our model using the data and using batch size of 128,number of epochs are 20 and using verbose=1 for printing out all the results.\n",
        "# In the callbacks parameter we are using the LearningRateScheduler which takes two arguments scheduler function which we built earlier to reduce the learning rate in each decay and verbose =1\n",
        "model1.fit(X_train, Y_train, batch_size=128, epochs=20, verbose=1, validation_data=(X_test, Y_test), callbacks=[LearningRateScheduler(scheduler, verbose=1)])"
      ],
      "execution_count": 11,
      "outputs": [
        {
          "output_type": "stream",
          "text": [
            "/usr/local/lib/python3.7/dist-packages/tensorflow/python/keras/optimizer_v2/optimizer_v2.py:375: UserWarning: The `lr` argument is deprecated, use `learning_rate` instead.\n",
            "  \"The `lr` argument is deprecated, use `learning_rate` instead.\")\n"
          ],
          "name": "stderr"
        },
        {
          "output_type": "stream",
          "text": [
            "Epoch 1/20\n",
            "\n",
            "Epoch 00001: LearningRateScheduler reducing learning rate to 0.003.\n",
            "469/469 [==============================] - 99s 169ms/step - loss: 0.5049 - accuracy: 0.8394 - val_loss: 0.1175 - val_accuracy: 0.9618\n",
            "Epoch 2/20\n",
            "\n",
            "Epoch 00002: LearningRateScheduler reducing learning rate to 0.0022744503.\n",
            "469/469 [==============================] - 78s 167ms/step - loss: 0.0785 - accuracy: 0.9757 - val_loss: 0.0463 - val_accuracy: 0.9854\n",
            "Epoch 3/20\n",
            "\n",
            "Epoch 00003: LearningRateScheduler reducing learning rate to 0.0018315018.\n",
            "469/469 [==============================] - 79s 168ms/step - loss: 0.0577 - accuracy: 0.9819 - val_loss: 0.0339 - val_accuracy: 0.9887\n",
            "Epoch 4/20\n",
            "\n",
            "Epoch 00004: LearningRateScheduler reducing learning rate to 0.0015329586.\n",
            "469/469 [==============================] - 79s 168ms/step - loss: 0.0493 - accuracy: 0.9839 - val_loss: 0.0297 - val_accuracy: 0.9903\n",
            "Epoch 5/20\n",
            "\n",
            "Epoch 00005: LearningRateScheduler reducing learning rate to 0.0013181019.\n",
            "469/469 [==============================] - 78s 167ms/step - loss: 0.0459 - accuracy: 0.9860 - val_loss: 0.0255 - val_accuracy: 0.9916\n",
            "Epoch 6/20\n",
            "\n",
            "Epoch 00006: LearningRateScheduler reducing learning rate to 0.0011560694.\n",
            "469/469 [==============================] - 79s 168ms/step - loss: 0.0382 - accuracy: 0.9879 - val_loss: 0.0271 - val_accuracy: 0.9915\n",
            "Epoch 7/20\n",
            "\n",
            "Epoch 00007: LearningRateScheduler reducing learning rate to 0.0010295127.\n",
            "469/469 [==============================] - 79s 168ms/step - loss: 0.0362 - accuracy: 0.9885 - val_loss: 0.0225 - val_accuracy: 0.9930\n",
            "Epoch 8/20\n",
            "\n",
            "Epoch 00008: LearningRateScheduler reducing learning rate to 0.0009279307.\n",
            "469/469 [==============================] - 78s 167ms/step - loss: 0.0326 - accuracy: 0.9897 - val_loss: 0.0223 - val_accuracy: 0.9926\n",
            "Epoch 9/20\n",
            "\n",
            "Epoch 00009: LearningRateScheduler reducing learning rate to 0.0008445946.\n",
            "469/469 [==============================] - 79s 167ms/step - loss: 0.0305 - accuracy: 0.9900 - val_loss: 0.0217 - val_accuracy: 0.9930\n",
            "Epoch 10/20\n",
            "\n",
            "Epoch 00010: LearningRateScheduler reducing learning rate to 0.0007749935.\n",
            "469/469 [==============================] - 79s 168ms/step - loss: 0.0283 - accuracy: 0.9908 - val_loss: 0.0236 - val_accuracy: 0.9929\n",
            "Epoch 11/20\n",
            "\n",
            "Epoch 00011: LearningRateScheduler reducing learning rate to 0.0007159905.\n",
            "469/469 [==============================] - 79s 168ms/step - loss: 0.0282 - accuracy: 0.9915 - val_loss: 0.0211 - val_accuracy: 0.9938\n",
            "Epoch 12/20\n",
            "\n",
            "Epoch 00012: LearningRateScheduler reducing learning rate to 0.000665336.\n",
            "469/469 [==============================] - 79s 169ms/step - loss: 0.0280 - accuracy: 0.9913 - val_loss: 0.0192 - val_accuracy: 0.9935\n",
            "Epoch 13/20\n",
            "\n",
            "Epoch 00013: LearningRateScheduler reducing learning rate to 0.0006213753.\n",
            "469/469 [==============================] - 80s 170ms/step - loss: 0.0281 - accuracy: 0.9916 - val_loss: 0.0196 - val_accuracy: 0.9939\n",
            "Epoch 14/20\n",
            "\n",
            "Epoch 00014: LearningRateScheduler reducing learning rate to 0.0005828638.\n",
            "469/469 [==============================] - 80s 170ms/step - loss: 0.0255 - accuracy: 0.9918 - val_loss: 0.0197 - val_accuracy: 0.9941\n",
            "Epoch 15/20\n",
            "\n",
            "Epoch 00015: LearningRateScheduler reducing learning rate to 0.0005488474.\n",
            "469/469 [==============================] - 80s 170ms/step - loss: 0.0242 - accuracy: 0.9918 - val_loss: 0.0198 - val_accuracy: 0.9941\n",
            "Epoch 16/20\n",
            "\n",
            "Epoch 00016: LearningRateScheduler reducing learning rate to 0.0005185825.\n",
            "469/469 [==============================] - 80s 170ms/step - loss: 0.0217 - accuracy: 0.9928 - val_loss: 0.0191 - val_accuracy: 0.9942\n",
            "Epoch 17/20\n",
            "\n",
            "Epoch 00017: LearningRateScheduler reducing learning rate to 0.000491481.\n",
            "469/469 [==============================] - 79s 169ms/step - loss: 0.0238 - accuracy: 0.9928 - val_loss: 0.0169 - val_accuracy: 0.9948\n",
            "Epoch 18/20\n",
            "\n",
            "Epoch 00018: LearningRateScheduler reducing learning rate to 0.0004670715.\n",
            "469/469 [==============================] - 80s 171ms/step - loss: 0.0238 - accuracy: 0.9922 - val_loss: 0.0170 - val_accuracy: 0.9951\n",
            "Epoch 19/20\n",
            "\n",
            "Epoch 00019: LearningRateScheduler reducing learning rate to 0.0004449718.\n",
            "469/469 [==============================] - 80s 171ms/step - loss: 0.0230 - accuracy: 0.9927 - val_loss: 0.0186 - val_accuracy: 0.9942\n",
            "Epoch 20/20\n",
            "\n",
            "Epoch 00020: LearningRateScheduler reducing learning rate to 0.000424869.\n",
            "469/469 [==============================] - 80s 171ms/step - loss: 0.0208 - accuracy: 0.9931 - val_loss: 0.0202 - val_accuracy: 0.9941\n"
          ],
          "name": "stdout"
        },
        {
          "output_type": "execute_result",
          "data": {
            "text/plain": [
              "<keras.callbacks.History at 0x7f1be2512c10>"
            ]
          },
          "metadata": {
            "tags": []
          },
          "execution_count": 11
        }
      ]
    },
    {
      "cell_type": "code",
      "metadata": {
        "colab": {
          "base_uri": "https://localhost:8080/"
        },
        "id": "aCziicKqwKfV",
        "outputId": "0bfdee3a-0d4a-4f25-ea08-5458fa4733f0"
      },
      "source": [
        "score = model1.evaluate(X_test, Y_test, verbose=0)\n",
        "print(score)\n",
        "y_pred = model1.predict(X_test)"
      ],
      "execution_count": 12,
      "outputs": [
        {
          "output_type": "stream",
          "text": [
            "[0.020219208672642708, 0.9940999746322632]\n"
          ],
          "name": "stdout"
        }
      ]
    },
    {
      "cell_type": "code",
      "metadata": {
        "colab": {
          "base_uri": "https://localhost:8080/"
        },
        "id": "C_BPJMJP9a0B",
        "outputId": "9b23f871-1d4b-4de0-b9c4-75616806aafb"
      },
      "source": [
        "index1={}\n",
        "for i, k in enumerate(y_pred[:1][0]):\n",
        "  index1.update({k:i})\n",
        "print('Prediction:',index1[max(index1)])\n",
        "print('Actual',y_test[:1][0])"
      ],
      "execution_count": 13,
      "outputs": [
        {
          "output_type": "stream",
          "text": [
            "Prediction: 7\n",
            "Actual 7\n"
          ],
          "name": "stdout"
        }
      ]
    },
    {
      "cell_type": "code",
      "metadata": {
        "id": "QzOb1XGKBu2f"
      },
      "source": [
        ""
      ],
      "execution_count": 13,
      "outputs": []
    }
  ]
}